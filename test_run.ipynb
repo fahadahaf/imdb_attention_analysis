{
 "cells": [
  {
   "cell_type": "code",
   "execution_count": 1,
   "metadata": {},
   "outputs": [
    {
     "name": "stderr",
     "output_type": "stream",
     "text": [
      "[nltk_data] Downloading package stopwords to\n",
      "[nltk_data]     /s/chopin/l/grad/fahadktk/nltk_data...\n",
      "[nltk_data]   Package stopwords is already up-to-date!\n"
     ]
    }
   ],
   "source": [
    "import pdb\n",
    "import pickle\n",
    "import os\n",
    "import pandas as pd\n",
    "import math\n",
    "import matplotlib.pyplot as plt\n",
    "import numpy as np\n",
    "\n",
    "import nltk\n",
    "nltk.download('stopwords')\n",
    "import torch\n",
    "import torch.nn as nn\n",
    "import torch.nn.functional as F\n",
    "import torch.optim as optim\n",
    "\n",
    "from fastprogress import progress_bar\n",
    "from nltk.corpus import stopwords\n",
    "from torch.utils.data.sampler import SubsetRandomSampler\n",
    "from torch.nn.utils.rnn import pack_padded_sequence, pad_packed_sequence\n",
    "from torch.autograd import Variable\n",
    "from torch.utils.data import Dataset, DataLoader\n",
    "\n",
    "from string import punctuation\n",
    "\n",
    "from sklearn import metrics"
   ]
  },
  {
   "cell_type": "code",
   "execution_count": 2,
   "metadata": {},
   "outputs": [
    {
     "data": {
      "text/plain": [
       "'1.2.0'"
      ]
     },
     "execution_count": 2,
     "metadata": {},
     "output_type": "execute_result"
    }
   ],
   "source": [
    "torch.__version__"
   ]
  },
  {
   "cell_type": "raw",
   "metadata": {},
   "source": [
    "# The raw cells are from https://nbviewer.jupyter.org/github/radoslawkrolikowski/sentiment-analysis-pytorch/blob/master/1_data_processing.ipynb\n",
    "def load_data(path, file_list, dataset, encoding='utf8'):\n",
    "    \"\"\"Read set of files from given directory and save returned lines to list.\n",
    "    \n",
    "    Parameters\n",
    "    ----------\n",
    "    path : str\n",
    "        Absolute or relative path to given file (or set of files).\n",
    "    file_list: list\n",
    "        List of files names to read.\n",
    "    dataset: list\n",
    "        List that stores read lines.\n",
    "    encoding: str, optional (default='utf8')\n",
    "        File encoding.\n",
    "        \n",
    "    \"\"\"\n",
    "    for file in file_list:\n",
    "        with open(os.path.join(path, file), 'r', encoding=encoding) as text:\n",
    "            dataset.append(text.read())"
   ]
  },
  {
   "cell_type": "raw",
   "metadata": {},
   "source": [
    "# Path to dataset location\n",
    "path = 'aclImdb/'\n",
    "\n",
    "# Create lists that will contain read lines\n",
    "train_pos, train_neg, test_pos, test_neg = [], [], [], []\n",
    "\n",
    "# Create a dictionary of paths and lists that store lines (key: value = path: list)\n",
    "sets_dict = {'train/pos/': train_pos, 'train/neg/': train_neg,\n",
    "             'test/pos/': test_pos, 'test/neg/': test_neg}\n",
    "\n",
    "# Load the data\n",
    "for dataset in sets_dict:\n",
    "        file_list = [f for f in os.listdir(os.path.join(path, dataset)) if f.endswith('.txt')]\n",
    "        load_data(os.path.join(path, dataset), file_list, sets_dict[dataset])"
   ]
  },
  {
   "cell_type": "raw",
   "metadata": {},
   "source": [
    "# Concatenate training and testing examples into one dataset\n",
    "dataset = pd.concat([pd.DataFrame({'review': train_pos, 'label':1}),\n",
    "                     pd.DataFrame({'review': test_pos, 'label':1}),\n",
    "                     pd.DataFrame({'review': train_neg, 'label':0}),\n",
    "                     pd.DataFrame({'review': test_neg, 'label':0})],\n",
    "                     axis=0, ignore_index=True)"
   ]
  },
  {
   "cell_type": "raw",
   "metadata": {},
   "source": [
    "dataset.head()"
   ]
  },
  {
   "cell_type": "raw",
   "metadata": {},
   "source": [
    "dataset['label'].value_counts()"
   ]
  },
  {
   "cell_type": "raw",
   "metadata": {},
   "source": [
    "dataset.to_csv('IMDB_Dataset_v2.csv')"
   ]
  },
  {
   "cell_type": "code",
   "execution_count": 3,
   "metadata": {},
   "outputs": [],
   "source": [
    "class IMDBDataset(Dataset):\n",
    "    def __init__(self, file_path, min_len=10, max_len=300, embedding='default', remove_stopWords=True, device=None):\n",
    "        self.max_len = max_len\n",
    "        self.min_len = min_len\n",
    "        self.data = pd.read_csv(file_path)\n",
    "        if 'sentiment' in self.data.columns:\n",
    "            self.data['label'] = self.data.sentiment.apply(lambda x: 1 if x=='positive' else 0)\n",
    "            self.data = self.data[['review', 'label']]\n",
    "        #self.data['label'] = self.data['sentiment'].apply(lambda x: 1 if x=='positive' else 0)\n",
    "        self.data['review'] = self.data.review.apply(lambda x: x.replace('<br />', ''))\n",
    "        stop_words = set(stopwords.words('english'))\n",
    "        if remove_stopWords:\n",
    "            self.data['review'] = self.data.review.apply(lambda x: ' '.join([c for c in x.split() if c not in stop_words]))\n",
    "        self.data['review'] = self.data.review.apply(lambda x: ''.join([c for c in x if c not in punctuation]))\n",
    "        self.data['reviewLen'] = self.data.review.apply(lambda x: len([c for c in x.split()]))\n",
    "        self.data = self.data[self.data['reviewLen'].isin([i for i in range(self.min_len, self.max_len)])].reset_index()    \n",
    "        if embedding=='default':\n",
    "            self.word_to_ix = {}\n",
    "            for review in self.data['review']:\n",
    "                for word in review.split():\n",
    "                    if word not in self.word_to_ix:\n",
    "                        self.word_to_ix[word] = len(self.word_to_ix)+1 #0 is for paddings\n",
    "        self.tag_to_ix = {\"1\":1, \"0\":0}\n",
    "    \n",
    "    def __len__(self):\n",
    "        return len(self.data)\n",
    "    \n",
    "    def pad_data(self, s):\n",
    "        padded = np.zeros((self.max_len,),dtype=np.int64)\n",
    "        if len(s) > self.max_len: padded[:] = s[:self.max_len]\n",
    "        else: padded[:len(s)] = s\n",
    "        return padded\n",
    "\n",
    "    def __getitem__(self, index):\n",
    "        review = self.data['review'][index]\n",
    "        label = self.data['label'][index]\n",
    "        idxs = [self.word_to_ix[w] for w in review.split()]\n",
    "        lenReview = self.data['reviewLen'][index]#min(len(idxs), self.max_len)\n",
    "        idxs = self.pad_data(idxs)\n",
    "        review = torch.tensor(idxs, dtype=torch.long)\n",
    "        #label = self.tag_to_ix[label]\n",
    "        label = torch.tensor(label, dtype=torch.long)\n",
    "        return review, label, lenReview"
   ]
  },
  {
   "cell_type": "code",
   "execution_count": 4,
   "metadata": {},
   "outputs": [],
   "source": [
    "class IMDBDatasetv2(Dataset):\n",
    "    def __init__(self, file_path, min_len=10, max_len=300, embedding='default', remove_stopWords=True, device=None):\n",
    "        self.max_len = max_len\n",
    "        self.min_len = min_len\n",
    "        self.data = pd.read_csv(file_path)\n",
    "        if 'sentiment' in self.data.columns:\n",
    "            self.data['label'] = self.data.sentiment.apply(lambda x: 1 if x=='positive' else 0)\n",
    "            self.data = self.data[['review', 'label']]\n",
    "        #self.data['label'] = self.data['sentiment'].apply(lambda x: \"1\" if x=='positive' else \"0\")\n",
    "        self.data['review'] = self.data.review.apply(lambda x: x.replace('<br />', ''))\n",
    "        stop_words = set(stopwords.words('english'))\n",
    "        if remove_stopWords:\n",
    "            self.data['review'] = self.data.review.apply(lambda x: ' '.join([c for c in x.split() if c not in stop_words]))\n",
    "        self.data['review'] = self.data.review.apply(lambda x: ''.join([c for c in x if c not in punctuation]))\n",
    "        self.data['reviewLen'] = self.data.review.apply(lambda x: len([c for c in x.split()]))\n",
    "        self.data = self.data[self.data['reviewLen'].isin([i for i in range(self.min_len, self.max_len)])].reset_index()    \n",
    "        if embedding=='default':\n",
    "            self.word_to_ix = {}\n",
    "            for review in self.data['review']:\n",
    "                for word in review.split():\n",
    "                    if word not in self.word_to_ix:\n",
    "                        self.word_to_ix[word] = len(self.word_to_ix)+1 #0 is for paddings\n",
    "            self.tag_to_ix = {\"1\":1, \"0\":0}\n",
    "        self.idx_list = []\n",
    "        self.lenReview_list = []\n",
    "        self.label_list = []\n",
    "        self.IDs_list = []\n",
    "        print('Generating data tensors...')\n",
    "        for i in progress_bar(range(0, self.data.shape[0])):\n",
    "            self.IDs_list.append(i)\n",
    "            review = self.data['review'][i]\n",
    "            label = self.data['label'][i]\n",
    "            \n",
    "            idxs = [self.word_to_ix[w] for w in review.split()]\n",
    "            lenReview = min(len(idxs), self.max_len) #self.data['reviewLen'][i]#min(len(idxs), self.max_len)\n",
    "            idxs = self.pad_data(idxs)\n",
    "            \n",
    "            review = torch.tensor(idxs, dtype=torch.long)\n",
    "            self.idx_list.append(review)\n",
    "            #label = self.tag_to_ix[label]\n",
    "            label = torch.tensor(label, dtype=torch.long)\n",
    "            self.label_list.append(label)\n",
    "            lenReview = torch.tensor(lenReview, dtype=torch.long)\n",
    "            self.lenReview_list.append(lenReview)\n",
    "            \n",
    "            \n",
    "    \n",
    "    def __len__(self):\n",
    "        return len(self.data)\n",
    "    \n",
    "    def pad_data(self, s):\n",
    "        padded = np.zeros((self.max_len,),dtype=np.int64)\n",
    "        if len(s) > self.max_len: padded[:] = s[:self.max_len]\n",
    "        else: padded[:len(s)] = s\n",
    "        return padded\n",
    "\n",
    "    def __getitem__(self, index):\n",
    "        return self.IDs_list[index], self.idx_list[index], self.label_list[index], self.lenReview_list[index]\n",
    "        "
   ]
  },
  {
   "cell_type": "code",
   "execution_count": 5,
   "metadata": {},
   "outputs": [],
   "source": [
    "class ModelIMDB(nn.Module):\n",
    "    def __init__(self, embedding_dim, hidden_dim, vocab_size, tagset_size):\n",
    "        super(ModelIMDB, self).__init__()\n",
    "        self.hidden_dim = hidden_dim\n",
    "        self.word_embeddings = nn.Embedding(vocab_size, embedding_dim, padding_idx=0)\n",
    "        #self.lstm = nn.LSTM(embedding_dim, hidden_dim)\n",
    "        self.lstm = nn.GRU(embedding_dim, hidden_dim, batch_first=True)\n",
    "        self.target = nn.Linear(hidden_dim, tagset_size)\n",
    "    \n",
    "    def forward(self, review, lengths):\n",
    "        #pdb.set_trace()\n",
    "        self.embs = self.word_embeddings(review)\n",
    "        self.embspack = pack_padded_sequence(self.embs, lengths, batch_first=True)\n",
    "        #lstm_out, self.h = self.lstm(self.embspack)\n",
    "        lstm_out, self.h = self.lstm(self.embspack)\n",
    "        \n",
    "        #outp = self.target(self.h[0]) #[hidden state, cell state]\n",
    "        outp = self.target(self.h)\n",
    "        return outp"
   ]
  },
  {
   "cell_type": "code",
   "execution_count": 48,
   "metadata": {},
   "outputs": [],
   "source": [
    "nheads = 2\n",
    "\n",
    "class PositionalEncoding(nn.Module):\n",
    "    # Taken from: https://nlp.seas.harvard.edu/2018/04/03/attention.html\n",
    "    \"Implement the PE function.\"\n",
    "    def __init__(self, d_model, dropout, max_len=5000):\n",
    "        super(PositionalEncoding, self).__init__()\n",
    "        self.dropout = nn.Dropout(p=dropout)\n",
    "       \n",
    "        # Compute the positional encodings once in log space.\n",
    "        pe = torch.zeros(max_len, d_model)\n",
    "        position = torch.arange(0., max_len).unsqueeze(1)\n",
    "        div_term = torch.exp(torch.arange(0., d_model, 2) *\n",
    "                             -(math.log(10000.0) / d_model))\n",
    "        pe[:, 0::2] = torch.sin(position * div_term)\n",
    "        pe[:, 1::2] = torch.cos(position * div_term)\n",
    "        pe = pe.unsqueeze(0)\n",
    "        self.register_buffer('pe', pe)\n",
    "       \n",
    "    def forward(self, x):\n",
    "        x = x + Variable(self.pe[:, :x.size(1)],\n",
    "                         requires_grad=False)\n",
    "        return self.dropout(x)\n",
    "\n",
    "class ModelIMDBaAttention(nn.Module):\n",
    "    def __init__(self, embedding_dim, hidden_dim, vocab_size, tagset_size, device):\n",
    "        super(ModelIMDBaAttention, self).__init__()\n",
    "        self.device = device\n",
    "        self.hidden_dim = hidden_dim\n",
    "        self.usepooling = False\n",
    "        self.readout_strategy = 'normalize'\n",
    "        self.word_embeddings = nn.Embedding(vocab_size, embedding_dim, padding_idx=0)\n",
    "        self.pe = PositionalEncoding(d_model=embedding_dim, dropout=0.1)\n",
    "        self.Q = nn.ModuleList([nn.Linear(in_features=embedding_dim, out_features=hidden_dim) for i in range(0,nheads)])\n",
    "        self.K = nn.ModuleList([nn.Linear(in_features=embedding_dim, out_features=hidden_dim) for i in range(0,nheads)])\n",
    "        self.V = nn.ModuleList([nn.Linear(in_features=embedding_dim, out_features=hidden_dim) for i in range(0,nheads)])\n",
    "        self.RELU = nn.ModuleList([nn.ReLU() for i in range(0,nheads)])\n",
    "        self.MultiHeadLinear = nn.Linear(in_features=hidden_dim*nheads, out_features=100)#50\n",
    "        self.MHReLU = nn.ReLU()\n",
    "        \n",
    "        self.target = nn.Linear(100, tagset_size)\n",
    "    \n",
    "    def attention(self, query, key, value, mask=None, dropout=0.0):\n",
    "        #based on: https://nlp.seas.harvard.edu/2018/04/03/attention.html\n",
    "        d_k = query.size(-1)\n",
    "        scores = torch.matmul(query, key.transpose(-2, -1)) / math.sqrt(d_k)\n",
    "        #p_attn_pos = torch.tanh(scores)\n",
    "        #p_attn_neg = torch.tanh(scores)\n",
    "        p_attn_pos = F.softmax(scores, dim = -1)\n",
    "        p_attn_neg = F.softmin(scores, dim = -1)\n",
    "        p_attn = (p_attn_pos + p_attn_neg)/2\n",
    "        #p_attn = F.softmax(scores, dim=-1)\n",
    "        p_attn = F.dropout(p_attn, p=dropout,training=self.training)\n",
    "        return torch.matmul(p_attn, value), [p_attn_pos, p_attn_neg]\n",
    "    \n",
    "    def forward(self, review, lengths):\n",
    "        #pdb.set_trace()\n",
    "        self.embs = self.word_embeddings(review)\n",
    "        output = self.pe(self.embs)\n",
    "        #self.embs = pack_padded_sequence(self.embs, lengths, batch_first=True)\n",
    "        #output = self.embs\n",
    "        attn_concat = torch.Tensor([]).to(self.device)\n",
    "        pAttn_concat_pos = torch.Tensor([]).to(self.device)\n",
    "        pAttn_concat_neg = torch.Tensor([]).to(self.device)\n",
    "        for i in range(0,nheads):\n",
    "            query, key, value = self.Q[i](output), self.K[i](output), self.V[i](output)\n",
    "            attnOut,p_attn = self.attention(query, key, value, dropout=0.2)\n",
    "            attnOut = self.RELU[i](attnOut)\n",
    "            if self.usepooling:\n",
    "                attnOut = self.MAXPOOL[i](attnOut.permute(0,2,1)).permute(0,2,1)\n",
    "            attn_concat = torch.cat((attn_concat,attnOut),dim=2)\n",
    "            pAttn_concat_pos = torch.cat((pAttn_concat_pos, p_attn[0]), dim=2)\n",
    "            pAttn_concat_neg = torch.cat((pAttn_concat_neg, p_attn[1]), dim=2)\n",
    "        pAttn_concat = [pAttn_concat_pos, pAttn_concat_neg]\n",
    "        output = self.MultiHeadLinear(attn_concat)\n",
    "        output = self.MHReLU(output)\n",
    "\n",
    "        if self.readout_strategy == 'normalize':\n",
    "            output = output.sum(axis=1)\n",
    "            output = (output-output.mean())/output.std()\n",
    "        \n",
    "        #outp = self.target(self.h[0]) #[hidden state, cell state]\n",
    "        outp = self.target(output)\n",
    "        return outp, pAttn_concat"
   ]
  },
  {
   "cell_type": "code",
   "execution_count": 7,
   "metadata": {},
   "outputs": [],
   "source": [
    "def train(model, iterator, optimizer, criterion, device):\n",
    "    epoch_loss = 0\n",
    "    epoch_auc = 0\n",
    "    epoch_f1 = 0\n",
    "    model.train()\n",
    "    for batch in progress_bar(iterator):\n",
    "        #pdb.set_trace()\n",
    "        optimizer.zero_grad()\n",
    "        _, text,labels,lengths = batch\n",
    "        lengths_Argsorted = lengths.argsort(descending=True)\n",
    "        lengths = lengths[lengths_Argsorted]\n",
    "        text = text[lengths_Argsorted]\n",
    "        labels = labels[lengths_Argsorted]\n",
    "        text = text.to(device)\n",
    "        labels = labels.to(device)\n",
    "        lengths = lengths.to(device)\n",
    "        outputs,_ = model(text, lengths)\n",
    "        outputs  = outputs.squeeze()\n",
    "        loss = criterion(outputs, labels)\n",
    "        softmax = torch.nn.Softmax(dim=1)\n",
    "        labels = labels.cpu().detach().numpy()\n",
    "        predictions = softmax(outputs).cpu().detach().numpy()\n",
    "        auc = metrics.roc_auc_score(labels, predictions[:,-1])\n",
    "        f1 = metrics.f1_score(labels, np.round(predictions[:,-1]))\n",
    "        loss.backward()\n",
    "        optimizer.step()\n",
    "        epoch_loss += loss.item()\n",
    "        epoch_auc += auc\n",
    "        epoch_f1 += f1\n",
    "    return epoch_loss/len(iterator), epoch_auc/len(iterator), epoch_f1/len(iterator)"
   ]
  },
  {
   "cell_type": "code",
   "execution_count": 8,
   "metadata": {},
   "outputs": [],
   "source": [
    "def evaluate(model, iterator, criterion, device, store_pattn=False):\n",
    "    epoch_loss = 0\n",
    "    epoch_auc = 0\n",
    "    epoch_f1 = 0\n",
    "    model.eval()\n",
    "    res_pred = {}\n",
    "\n",
    "    with torch.no_grad():\n",
    "        count = 0\n",
    "        for batch in progress_bar(iterator):\n",
    "            #pdb.set_trace()\n",
    "            indx, text,labels,lengths = batch\n",
    "            lengths_Argsorted = lengths.argsort(descending=True)\n",
    "            indx = indx[lengths_Argsorted]\n",
    "            lengths = lengths[lengths_Argsorted]\n",
    "            text = text[lengths_Argsorted]\n",
    "            labels = labels[lengths_Argsorted]\n",
    "            text = text.to(device)\n",
    "            labels = labels.to(device)\n",
    "            lengths = lengths.to(device)\n",
    "            outputs,attn = model(text, lengths)\n",
    "            indx = indx.cpu().detach().numpy()\n",
    "            if store_pattn:\n",
    "                 with open(f'attn_dir/attention_dict_{count}.pckl','wb') as f:\n",
    "                    pickle.dump([indx, attn], f)\n",
    "            outputs = outputs.squeeze()\n",
    "            loss = criterion(outputs, labels)\n",
    "            softmax = torch.nn.Softmax(dim=1)\n",
    "            \n",
    "            labels = labels.cpu().detach().numpy()\n",
    "            predictions = softmax(outputs).cpu().detach().numpy()\n",
    "            res_pred[count] = [indx, labels, predictions]\n",
    "            \n",
    "            auc = metrics.roc_auc_score(labels, predictions[:,-1])\n",
    "            f1 = metrics.f1_score(labels, np.round(predictions[:,-1]))\n",
    "\n",
    "            epoch_loss += loss.item()\n",
    "            epoch_auc += auc\n",
    "            epoch_f1 += f1\n",
    "            count += 1\n",
    "        \n",
    "    return res_pred, epoch_loss/len(iterator), epoch_auc/len(iterator), epoch_f1/len(iterator)"
   ]
  },
  {
   "cell_type": "code",
   "execution_count": 49,
   "metadata": {},
   "outputs": [],
   "source": [
    "batch_size = 64\n",
    "test_split = 0.1\n",
    "shuffle_data = True\n",
    "rand_seed = 100\n",
    "device = torch.device('cuda' if torch.cuda.is_available() else 'cpu')"
   ]
  },
  {
   "cell_type": "code",
   "execution_count": 50,
   "metadata": {},
   "outputs": [
    {
     "name": "stdout",
     "output_type": "stream",
     "text": [
      "Generating data tensors...\n"
     ]
    },
    {
     "data": {
      "text/html": [
       "\n",
       "    <div>\n",
       "        <style>\n",
       "            /* Turns off some styling */\n",
       "            progress {\n",
       "                /* gets rid of default border in Firefox and Opera. */\n",
       "                border: none;\n",
       "                /* Needs to be in here for Safari polyfill so background images work as expected. */\n",
       "                background-size: auto;\n",
       "            }\n",
       "            .progress-bar-interrupted, .progress-bar-interrupted::-webkit-progress-bar {\n",
       "                background: #F44336;\n",
       "            }\n",
       "        </style>\n",
       "      <progress value='46561' class='' max='46561', style='width:300px; height:20px; vertical-align: middle;'></progress>\n",
       "      100.00% [46561/46561 00:04<00:00]\n",
       "    </div>\n",
       "    "
      ],
      "text/plain": [
       "<IPython.core.display.HTML object>"
      ]
     },
     "metadata": {},
     "output_type": "display_data"
    }
   ],
   "source": [
    "dataset = IMDBDatasetv2('IMDB_Dataset.csv', device=device, remove_stopWords=True)"
   ]
  },
  {
   "cell_type": "code",
   "execution_count": 51,
   "metadata": {},
   "outputs": [],
   "source": [
    "dataset_size = len(dataset)\n",
    "indices = list(range(dataset_size))\n",
    "split_val = int(np.floor(test_split*dataset_size))\n",
    "if shuffle_data:\n",
    "    np.random.seed(rand_seed)\n",
    "    np.random.shuffle(indices)\n",
    "train_indices, test_indices, valid_indices = np.array(indices[2*split_val:]),np.array(indices[:split_val]),np.array(indices[split_val:2*split_val])\n",
    "#train_indices, valid_indices = indices[split_val:], indices[:split_val]\n",
    "\n",
    "train_sampler = SubsetRandomSampler(train_indices)\n",
    "test_sampler = SubsetRandomSampler(test_indices)\n",
    "valid_sampler = SubsetRandomSampler(valid_indices)\n",
    "train_loader = DataLoader(dataset, batch_size = batch_size, sampler = train_sampler, num_workers = 8, drop_last=True)\n",
    "test_loader = DataLoader(dataset, batch_size = batch_size, sampler = test_sampler, num_workers = 8, drop_last=True)\n",
    "valid_loader = DataLoader(dataset, batch_size = batch_size, sampler = valid_sampler, num_workers = 8, drop_last=True)"
   ]
  },
  {
   "cell_type": "code",
   "execution_count": 52,
   "metadata": {},
   "outputs": [
    {
     "data": {
      "text/plain": [
       "37249"
      ]
     },
     "execution_count": 52,
     "metadata": {},
     "output_type": "execute_result"
    }
   ],
   "source": [
    "#len(indices[2*split_val:])\n",
    "len(train_indices)"
   ]
  },
  {
   "cell_type": "code",
   "execution_count": 53,
   "metadata": {},
   "outputs": [
    {
     "data": {
      "text/plain": [
       "220394"
      ]
     },
     "execution_count": 53,
     "metadata": {},
     "output_type": "execute_result"
    }
   ],
   "source": [
    "len(dataset.word_to_ix)"
   ]
  },
  {
   "cell_type": "code",
   "execution_count": 54,
   "metadata": {},
   "outputs": [],
   "source": [
    "#model = ModelIMDB(100, 50, len(dataset.word_to_ix)+1, len(dataset.tag_to_ix)).to(device)\n",
    "model = ModelIMDBaAttention(100, 50, len(dataset.word_to_ix)+1, len(dataset.tag_to_ix), device).to(device)\n",
    "criterion = nn.CrossEntropyLoss(reduction='mean')\n",
    "optimizer = optim.Adam(model.parameters())"
   ]
  },
  {
   "cell_type": "code",
   "execution_count": 55,
   "metadata": {},
   "outputs": [],
   "source": [
    "#model"
   ]
  },
  {
   "cell_type": "code",
   "execution_count": 56,
   "metadata": {},
   "outputs": [
    {
     "data": {
      "text/html": [
       "\n",
       "    <div>\n",
       "        <style>\n",
       "            /* Turns off some styling */\n",
       "            progress {\n",
       "                /* gets rid of default border in Firefox and Opera. */\n",
       "                border: none;\n",
       "                /* Needs to be in here for Safari polyfill so background images work as expected. */\n",
       "                background-size: auto;\n",
       "            }\n",
       "            .progress-bar-interrupted, .progress-bar-interrupted::-webkit-progress-bar {\n",
       "                background: #F44336;\n",
       "            }\n",
       "        </style>\n",
       "      <progress value='582' class='' max='582', style='width:300px; height:20px; vertical-align: middle;'></progress>\n",
       "      100.00% [582/582 00:18<00:00]\n",
       "    </div>\n",
       "    "
      ],
      "text/plain": [
       "<IPython.core.display.HTML object>"
      ]
     },
     "metadata": {},
     "output_type": "display_data"
    },
    {
     "data": {
      "text/html": [
       "\n",
       "    <div>\n",
       "        <style>\n",
       "            /* Turns off some styling */\n",
       "            progress {\n",
       "                /* gets rid of default border in Firefox and Opera. */\n",
       "                border: none;\n",
       "                /* Needs to be in here for Safari polyfill so background images work as expected. */\n",
       "                background-size: auto;\n",
       "            }\n",
       "            .progress-bar-interrupted, .progress-bar-interrupted::-webkit-progress-bar {\n",
       "                background: #F44336;\n",
       "            }\n",
       "        </style>\n",
       "      <progress value='72' class='' max='72', style='width:300px; height:20px; vertical-align: middle;'></progress>\n",
       "      100.00% [72/72 00:01<00:00]\n",
       "    </div>\n",
       "    "
      ],
      "text/plain": [
       "<IPython.core.display.HTML object>"
      ]
     },
     "metadata": {},
     "output_type": "display_data"
    },
    {
     "name": "stdout",
     "output_type": "stream",
     "text": [
      "0.5183672794873772\n",
      "Best Validation Loss: 0.375, AUC: 0.91, F1:0.83 \n",
      "\n"
     ]
    },
    {
     "data": {
      "text/html": [
       "\n",
       "    <div>\n",
       "        <style>\n",
       "            /* Turns off some styling */\n",
       "            progress {\n",
       "                /* gets rid of default border in Firefox and Opera. */\n",
       "                border: none;\n",
       "                /* Needs to be in here for Safari polyfill so background images work as expected. */\n",
       "                background-size: auto;\n",
       "            }\n",
       "            .progress-bar-interrupted, .progress-bar-interrupted::-webkit-progress-bar {\n",
       "                background: #F44336;\n",
       "            }\n",
       "        </style>\n",
       "      <progress value='582' class='' max='582', style='width:300px; height:20px; vertical-align: middle;'></progress>\n",
       "      100.00% [582/582 00:19<00:00]\n",
       "    </div>\n",
       "    "
      ],
      "text/plain": [
       "<IPython.core.display.HTML object>"
      ]
     },
     "metadata": {},
     "output_type": "display_data"
    },
    {
     "data": {
      "text/html": [
       "\n",
       "    <div>\n",
       "        <style>\n",
       "            /* Turns off some styling */\n",
       "            progress {\n",
       "                /* gets rid of default border in Firefox and Opera. */\n",
       "                border: none;\n",
       "                /* Needs to be in here for Safari polyfill so background images work as expected. */\n",
       "                background-size: auto;\n",
       "            }\n",
       "            .progress-bar-interrupted, .progress-bar-interrupted::-webkit-progress-bar {\n",
       "                background: #F44336;\n",
       "            }\n",
       "        </style>\n",
       "      <progress value='72' class='' max='72', style='width:300px; height:20px; vertical-align: middle;'></progress>\n",
       "      100.00% [72/72 00:01<00:00]\n",
       "    </div>\n",
       "    "
      ],
      "text/plain": [
       "<IPython.core.display.HTML object>"
      ]
     },
     "metadata": {},
     "output_type": "display_data"
    },
    {
     "name": "stdout",
     "output_type": "stream",
     "text": [
      "0.329122676011623\n",
      "Best Validation Loss: 0.303, AUC: 0.94, F1:0.88 \n",
      "\n"
     ]
    },
    {
     "data": {
      "text/html": [
       "\n",
       "    <div>\n",
       "        <style>\n",
       "            /* Turns off some styling */\n",
       "            progress {\n",
       "                /* gets rid of default border in Firefox and Opera. */\n",
       "                border: none;\n",
       "                /* Needs to be in here for Safari polyfill so background images work as expected. */\n",
       "                background-size: auto;\n",
       "            }\n",
       "            .progress-bar-interrupted, .progress-bar-interrupted::-webkit-progress-bar {\n",
       "                background: #F44336;\n",
       "            }\n",
       "        </style>\n",
       "      <progress value='582' class='' max='582', style='width:300px; height:20px; vertical-align: middle;'></progress>\n",
       "      100.00% [582/582 00:19<00:00]\n",
       "    </div>\n",
       "    "
      ],
      "text/plain": [
       "<IPython.core.display.HTML object>"
      ]
     },
     "metadata": {},
     "output_type": "display_data"
    },
    {
     "data": {
      "text/html": [
       "\n",
       "    <div>\n",
       "        <style>\n",
       "            /* Turns off some styling */\n",
       "            progress {\n",
       "                /* gets rid of default border in Firefox and Opera. */\n",
       "                border: none;\n",
       "                /* Needs to be in here for Safari polyfill so background images work as expected. */\n",
       "                background-size: auto;\n",
       "            }\n",
       "            .progress-bar-interrupted, .progress-bar-interrupted::-webkit-progress-bar {\n",
       "                background: #F44336;\n",
       "            }\n",
       "        </style>\n",
       "      <progress value='72' class='' max='72', style='width:300px; height:20px; vertical-align: middle;'></progress>\n",
       "      100.00% [72/72 00:01<00:00]\n",
       "    </div>\n",
       "    "
      ],
      "text/plain": [
       "<IPython.core.display.HTML object>"
      ]
     },
     "metadata": {},
     "output_type": "display_data"
    },
    {
     "name": "stdout",
     "output_type": "stream",
     "text": [
      "0.2361331003945308\n"
     ]
    },
    {
     "data": {
      "text/html": [
       "\n",
       "    <div>\n",
       "        <style>\n",
       "            /* Turns off some styling */\n",
       "            progress {\n",
       "                /* gets rid of default border in Firefox and Opera. */\n",
       "                border: none;\n",
       "                /* Needs to be in here for Safari polyfill so background images work as expected. */\n",
       "                background-size: auto;\n",
       "            }\n",
       "            .progress-bar-interrupted, .progress-bar-interrupted::-webkit-progress-bar {\n",
       "                background: #F44336;\n",
       "            }\n",
       "        </style>\n",
       "      <progress value='582' class='' max='582', style='width:300px; height:20px; vertical-align: middle;'></progress>\n",
       "      100.00% [582/582 00:19<00:00]\n",
       "    </div>\n",
       "    "
      ],
      "text/plain": [
       "<IPython.core.display.HTML object>"
      ]
     },
     "metadata": {},
     "output_type": "display_data"
    },
    {
     "data": {
      "text/html": [
       "\n",
       "    <div>\n",
       "        <style>\n",
       "            /* Turns off some styling */\n",
       "            progress {\n",
       "                /* gets rid of default border in Firefox and Opera. */\n",
       "                border: none;\n",
       "                /* Needs to be in here for Safari polyfill so background images work as expected. */\n",
       "                background-size: auto;\n",
       "            }\n",
       "            .progress-bar-interrupted, .progress-bar-interrupted::-webkit-progress-bar {\n",
       "                background: #F44336;\n",
       "            }\n",
       "        </style>\n",
       "      <progress value='72' class='' max='72', style='width:300px; height:20px; vertical-align: middle;'></progress>\n",
       "      100.00% [72/72 00:01<00:00]\n",
       "    </div>\n",
       "    "
      ],
      "text/plain": [
       "<IPython.core.display.HTML object>"
      ]
     },
     "metadata": {},
     "output_type": "display_data"
    },
    {
     "name": "stdout",
     "output_type": "stream",
     "text": [
      "0.17522015976255498\n",
      "Best Validation Loss: 0.297, AUC: 0.95, F1:0.89 \n",
      "\n"
     ]
    },
    {
     "data": {
      "text/html": [
       "\n",
       "    <div>\n",
       "        <style>\n",
       "            /* Turns off some styling */\n",
       "            progress {\n",
       "                /* gets rid of default border in Firefox and Opera. */\n",
       "                border: none;\n",
       "                /* Needs to be in here for Safari polyfill so background images work as expected. */\n",
       "                background-size: auto;\n",
       "            }\n",
       "            .progress-bar-interrupted, .progress-bar-interrupted::-webkit-progress-bar {\n",
       "                background: #F44336;\n",
       "            }\n",
       "        </style>\n",
       "      <progress value='582' class='' max='582', style='width:300px; height:20px; vertical-align: middle;'></progress>\n",
       "      100.00% [582/582 00:19<00:00]\n",
       "    </div>\n",
       "    "
      ],
      "text/plain": [
       "<IPython.core.display.HTML object>"
      ]
     },
     "metadata": {},
     "output_type": "display_data"
    },
    {
     "data": {
      "text/html": [
       "\n",
       "    <div>\n",
       "        <style>\n",
       "            /* Turns off some styling */\n",
       "            progress {\n",
       "                /* gets rid of default border in Firefox and Opera. */\n",
       "                border: none;\n",
       "                /* Needs to be in here for Safari polyfill so background images work as expected. */\n",
       "                background-size: auto;\n",
       "            }\n",
       "            .progress-bar-interrupted, .progress-bar-interrupted::-webkit-progress-bar {\n",
       "                background: #F44336;\n",
       "            }\n",
       "        </style>\n",
       "      <progress value='72' class='' max='72', style='width:300px; height:20px; vertical-align: middle;'></progress>\n",
       "      100.00% [72/72 00:01<00:00]\n",
       "    </div>\n",
       "    "
      ],
      "text/plain": [
       "<IPython.core.display.HTML object>"
      ]
     },
     "metadata": {},
     "output_type": "display_data"
    },
    {
     "name": "stdout",
     "output_type": "stream",
     "text": [
      "0.1283337363486796\n"
     ]
    },
    {
     "data": {
      "text/html": [
       "\n",
       "    <div>\n",
       "        <style>\n",
       "            /* Turns off some styling */\n",
       "            progress {\n",
       "                /* gets rid of default border in Firefox and Opera. */\n",
       "                border: none;\n",
       "                /* Needs to be in here for Safari polyfill so background images work as expected. */\n",
       "                background-size: auto;\n",
       "            }\n",
       "            .progress-bar-interrupted, .progress-bar-interrupted::-webkit-progress-bar {\n",
       "                background: #F44336;\n",
       "            }\n",
       "        </style>\n",
       "      <progress value='582' class='' max='582', style='width:300px; height:20px; vertical-align: middle;'></progress>\n",
       "      100.00% [582/582 00:19<00:00]\n",
       "    </div>\n",
       "    "
      ],
      "text/plain": [
       "<IPython.core.display.HTML object>"
      ]
     },
     "metadata": {},
     "output_type": "display_data"
    },
    {
     "data": {
      "text/html": [
       "\n",
       "    <div>\n",
       "        <style>\n",
       "            /* Turns off some styling */\n",
       "            progress {\n",
       "                /* gets rid of default border in Firefox and Opera. */\n",
       "                border: none;\n",
       "                /* Needs to be in here for Safari polyfill so background images work as expected. */\n",
       "                background-size: auto;\n",
       "            }\n",
       "            .progress-bar-interrupted, .progress-bar-interrupted::-webkit-progress-bar {\n",
       "                background: #F44336;\n",
       "            }\n",
       "        </style>\n",
       "      <progress value='72' class='' max='72', style='width:300px; height:20px; vertical-align: middle;'></progress>\n",
       "      100.00% [72/72 00:01<00:00]\n",
       "    </div>\n",
       "    "
      ],
      "text/plain": [
       "<IPython.core.display.HTML object>"
      ]
     },
     "metadata": {},
     "output_type": "display_data"
    },
    {
     "name": "stdout",
     "output_type": "stream",
     "text": [
      "0.09109091511015426\n"
     ]
    },
    {
     "data": {
      "text/html": [
       "\n",
       "    <div>\n",
       "        <style>\n",
       "            /* Turns off some styling */\n",
       "            progress {\n",
       "                /* gets rid of default border in Firefox and Opera. */\n",
       "                border: none;\n",
       "                /* Needs to be in here for Safari polyfill so background images work as expected. */\n",
       "                background-size: auto;\n",
       "            }\n",
       "            .progress-bar-interrupted, .progress-bar-interrupted::-webkit-progress-bar {\n",
       "                background: #F44336;\n",
       "            }\n",
       "        </style>\n",
       "      <progress value='582' class='' max='582', style='width:300px; height:20px; vertical-align: middle;'></progress>\n",
       "      100.00% [582/582 00:19<00:00]\n",
       "    </div>\n",
       "    "
      ],
      "text/plain": [
       "<IPython.core.display.HTML object>"
      ]
     },
     "metadata": {},
     "output_type": "display_data"
    },
    {
     "data": {
      "text/html": [
       "\n",
       "    <div>\n",
       "        <style>\n",
       "            /* Turns off some styling */\n",
       "            progress {\n",
       "                /* gets rid of default border in Firefox and Opera. */\n",
       "                border: none;\n",
       "                /* Needs to be in here for Safari polyfill so background images work as expected. */\n",
       "                background-size: auto;\n",
       "            }\n",
       "            .progress-bar-interrupted, .progress-bar-interrupted::-webkit-progress-bar {\n",
       "                background: #F44336;\n",
       "            }\n",
       "        </style>\n",
       "      <progress value='72' class='' max='72', style='width:300px; height:20px; vertical-align: middle;'></progress>\n",
       "      100.00% [72/72 00:01<00:00]\n",
       "    </div>\n",
       "    "
      ],
      "text/plain": [
       "<IPython.core.display.HTML object>"
      ]
     },
     "metadata": {},
     "output_type": "display_data"
    },
    {
     "name": "stdout",
     "output_type": "stream",
     "text": [
      "0.06664220620862038\n"
     ]
    },
    {
     "data": {
      "text/html": [
       "\n",
       "    <div>\n",
       "        <style>\n",
       "            /* Turns off some styling */\n",
       "            progress {\n",
       "                /* gets rid of default border in Firefox and Opera. */\n",
       "                border: none;\n",
       "                /* Needs to be in here for Safari polyfill so background images work as expected. */\n",
       "                background-size: auto;\n",
       "            }\n",
       "            .progress-bar-interrupted, .progress-bar-interrupted::-webkit-progress-bar {\n",
       "                background: #F44336;\n",
       "            }\n",
       "        </style>\n",
       "      <progress value='582' class='' max='582', style='width:300px; height:20px; vertical-align: middle;'></progress>\n",
       "      100.00% [582/582 00:19<00:00]\n",
       "    </div>\n",
       "    "
      ],
      "text/plain": [
       "<IPython.core.display.HTML object>"
      ]
     },
     "metadata": {},
     "output_type": "display_data"
    },
    {
     "data": {
      "text/html": [
       "\n",
       "    <div>\n",
       "        <style>\n",
       "            /* Turns off some styling */\n",
       "            progress {\n",
       "                /* gets rid of default border in Firefox and Opera. */\n",
       "                border: none;\n",
       "                /* Needs to be in here for Safari polyfill so background images work as expected. */\n",
       "                background-size: auto;\n",
       "            }\n",
       "            .progress-bar-interrupted, .progress-bar-interrupted::-webkit-progress-bar {\n",
       "                background: #F44336;\n",
       "            }\n",
       "        </style>\n",
       "      <progress value='72' class='' max='72', style='width:300px; height:20px; vertical-align: middle;'></progress>\n",
       "      100.00% [72/72 00:01<00:00]\n",
       "    </div>\n",
       "    "
      ],
      "text/plain": [
       "<IPython.core.display.HTML object>"
      ]
     },
     "metadata": {},
     "output_type": "display_data"
    },
    {
     "name": "stdout",
     "output_type": "stream",
     "text": [
      "0.048692439572367165\n"
     ]
    },
    {
     "data": {
      "text/html": [
       "\n",
       "    <div>\n",
       "        <style>\n",
       "            /* Turns off some styling */\n",
       "            progress {\n",
       "                /* gets rid of default border in Firefox and Opera. */\n",
       "                border: none;\n",
       "                /* Needs to be in here for Safari polyfill so background images work as expected. */\n",
       "                background-size: auto;\n",
       "            }\n",
       "            .progress-bar-interrupted, .progress-bar-interrupted::-webkit-progress-bar {\n",
       "                background: #F44336;\n",
       "            }\n",
       "        </style>\n",
       "      <progress value='582' class='' max='582', style='width:300px; height:20px; vertical-align: middle;'></progress>\n",
       "      100.00% [582/582 00:19<00:00]\n",
       "    </div>\n",
       "    "
      ],
      "text/plain": [
       "<IPython.core.display.HTML object>"
      ]
     },
     "metadata": {},
     "output_type": "display_data"
    },
    {
     "data": {
      "text/html": [
       "\n",
       "    <div>\n",
       "        <style>\n",
       "            /* Turns off some styling */\n",
       "            progress {\n",
       "                /* gets rid of default border in Firefox and Opera. */\n",
       "                border: none;\n",
       "                /* Needs to be in here for Safari polyfill so background images work as expected. */\n",
       "                background-size: auto;\n",
       "            }\n",
       "            .progress-bar-interrupted, .progress-bar-interrupted::-webkit-progress-bar {\n",
       "                background: #F44336;\n",
       "            }\n",
       "        </style>\n",
       "      <progress value='72' class='' max='72', style='width:300px; height:20px; vertical-align: middle;'></progress>\n",
       "      100.00% [72/72 00:01<00:00]\n",
       "    </div>\n",
       "    "
      ],
      "text/plain": [
       "<IPython.core.display.HTML object>"
      ]
     },
     "metadata": {},
     "output_type": "display_data"
    },
    {
     "name": "stdout",
     "output_type": "stream",
     "text": [
      "0.036901942465479946\n"
     ]
    },
    {
     "data": {
      "text/html": [
       "\n",
       "    <div>\n",
       "        <style>\n",
       "            /* Turns off some styling */\n",
       "            progress {\n",
       "                /* gets rid of default border in Firefox and Opera. */\n",
       "                border: none;\n",
       "                /* Needs to be in here for Safari polyfill so background images work as expected. */\n",
       "                background-size: auto;\n",
       "            }\n",
       "            .progress-bar-interrupted, .progress-bar-interrupted::-webkit-progress-bar {\n",
       "                background: #F44336;\n",
       "            }\n",
       "        </style>\n",
       "      <progress value='582' class='' max='582', style='width:300px; height:20px; vertical-align: middle;'></progress>\n",
       "      100.00% [582/582 00:19<00:00]\n",
       "    </div>\n",
       "    "
      ],
      "text/plain": [
       "<IPython.core.display.HTML object>"
      ]
     },
     "metadata": {},
     "output_type": "display_data"
    },
    {
     "data": {
      "text/html": [
       "\n",
       "    <div>\n",
       "        <style>\n",
       "            /* Turns off some styling */\n",
       "            progress {\n",
       "                /* gets rid of default border in Firefox and Opera. */\n",
       "                border: none;\n",
       "                /* Needs to be in here for Safari polyfill so background images work as expected. */\n",
       "                background-size: auto;\n",
       "            }\n",
       "            .progress-bar-interrupted, .progress-bar-interrupted::-webkit-progress-bar {\n",
       "                background: #F44336;\n",
       "            }\n",
       "        </style>\n",
       "      <progress value='72' class='' max='72', style='width:300px; height:20px; vertical-align: middle;'></progress>\n",
       "      100.00% [72/72 00:01<00:00]\n",
       "    </div>\n",
       "    "
      ],
      "text/plain": [
       "<IPython.core.display.HTML object>"
      ]
     },
     "metadata": {},
     "output_type": "display_data"
    },
    {
     "name": "stdout",
     "output_type": "stream",
     "text": [
      "0.026975358493907756\n"
     ]
    },
    {
     "data": {
      "text/html": [
       "\n",
       "    <div>\n",
       "        <style>\n",
       "            /* Turns off some styling */\n",
       "            progress {\n",
       "                /* gets rid of default border in Firefox and Opera. */\n",
       "                border: none;\n",
       "                /* Needs to be in here for Safari polyfill so background images work as expected. */\n",
       "                background-size: auto;\n",
       "            }\n",
       "            .progress-bar-interrupted, .progress-bar-interrupted::-webkit-progress-bar {\n",
       "                background: #F44336;\n",
       "            }\n",
       "        </style>\n",
       "      <progress value='582' class='' max='582', style='width:300px; height:20px; vertical-align: middle;'></progress>\n",
       "      100.00% [582/582 00:19<00:00]\n",
       "    </div>\n",
       "    "
      ],
      "text/plain": [
       "<IPython.core.display.HTML object>"
      ]
     },
     "metadata": {},
     "output_type": "display_data"
    },
    {
     "data": {
      "text/html": [
       "\n",
       "    <div>\n",
       "        <style>\n",
       "            /* Turns off some styling */\n",
       "            progress {\n",
       "                /* gets rid of default border in Firefox and Opera. */\n",
       "                border: none;\n",
       "                /* Needs to be in here for Safari polyfill so background images work as expected. */\n",
       "                background-size: auto;\n",
       "            }\n",
       "            .progress-bar-interrupted, .progress-bar-interrupted::-webkit-progress-bar {\n",
       "                background: #F44336;\n",
       "            }\n",
       "        </style>\n",
       "      <progress value='72' class='' max='72', style='width:300px; height:20px; vertical-align: middle;'></progress>\n",
       "      100.00% [72/72 00:01<00:00]\n",
       "    </div>\n",
       "    "
      ],
      "text/plain": [
       "<IPython.core.display.HTML object>"
      ]
     },
     "metadata": {},
     "output_type": "display_data"
    },
    {
     "name": "stdout",
     "output_type": "stream",
     "text": [
      "0.024975550637814085\n"
     ]
    },
    {
     "data": {
      "text/html": [
       "\n",
       "    <div>\n",
       "        <style>\n",
       "            /* Turns off some styling */\n",
       "            progress {\n",
       "                /* gets rid of default border in Firefox and Opera. */\n",
       "                border: none;\n",
       "                /* Needs to be in here for Safari polyfill so background images work as expected. */\n",
       "                background-size: auto;\n",
       "            }\n",
       "            .progress-bar-interrupted, .progress-bar-interrupted::-webkit-progress-bar {\n",
       "                background: #F44336;\n",
       "            }\n",
       "        </style>\n",
       "      <progress value='582' class='' max='582', style='width:300px; height:20px; vertical-align: middle;'></progress>\n",
       "      100.00% [582/582 00:19<00:00]\n",
       "    </div>\n",
       "    "
      ],
      "text/plain": [
       "<IPython.core.display.HTML object>"
      ]
     },
     "metadata": {},
     "output_type": "display_data"
    },
    {
     "data": {
      "text/html": [
       "\n",
       "    <div>\n",
       "        <style>\n",
       "            /* Turns off some styling */\n",
       "            progress {\n",
       "                /* gets rid of default border in Firefox and Opera. */\n",
       "                border: none;\n",
       "                /* Needs to be in here for Safari polyfill so background images work as expected. */\n",
       "                background-size: auto;\n",
       "            }\n",
       "            .progress-bar-interrupted, .progress-bar-interrupted::-webkit-progress-bar {\n",
       "                background: #F44336;\n",
       "            }\n",
       "        </style>\n",
       "      <progress value='72' class='' max='72', style='width:300px; height:20px; vertical-align: middle;'></progress>\n",
       "      100.00% [72/72 00:01<00:00]\n",
       "    </div>\n",
       "    "
      ],
      "text/plain": [
       "<IPython.core.display.HTML object>"
      ]
     },
     "metadata": {},
     "output_type": "display_data"
    },
    {
     "name": "stdout",
     "output_type": "stream",
     "text": [
      "0.020384710614931134\n"
     ]
    },
    {
     "data": {
      "text/html": [
       "\n",
       "    <div>\n",
       "        <style>\n",
       "            /* Turns off some styling */\n",
       "            progress {\n",
       "                /* gets rid of default border in Firefox and Opera. */\n",
       "                border: none;\n",
       "                /* Needs to be in here for Safari polyfill so background images work as expected. */\n",
       "                background-size: auto;\n",
       "            }\n",
       "            .progress-bar-interrupted, .progress-bar-interrupted::-webkit-progress-bar {\n",
       "                background: #F44336;\n",
       "            }\n",
       "        </style>\n",
       "      <progress value='582' class='' max='582', style='width:300px; height:20px; vertical-align: middle;'></progress>\n",
       "      100.00% [582/582 00:19<00:00]\n",
       "    </div>\n",
       "    "
      ],
      "text/plain": [
       "<IPython.core.display.HTML object>"
      ]
     },
     "metadata": {},
     "output_type": "display_data"
    },
    {
     "data": {
      "text/html": [
       "\n",
       "    <div>\n",
       "        <style>\n",
       "            /* Turns off some styling */\n",
       "            progress {\n",
       "                /* gets rid of default border in Firefox and Opera. */\n",
       "                border: none;\n",
       "                /* Needs to be in here for Safari polyfill so background images work as expected. */\n",
       "                background-size: auto;\n",
       "            }\n",
       "            .progress-bar-interrupted, .progress-bar-interrupted::-webkit-progress-bar {\n",
       "                background: #F44336;\n",
       "            }\n",
       "        </style>\n",
       "      <progress value='72' class='' max='72', style='width:300px; height:20px; vertical-align: middle;'></progress>\n",
       "      100.00% [72/72 00:01<00:00]\n",
       "    </div>\n",
       "    "
      ],
      "text/plain": [
       "<IPython.core.display.HTML object>"
      ]
     },
     "metadata": {},
     "output_type": "display_data"
    },
    {
     "name": "stdout",
     "output_type": "stream",
     "text": [
      "0.018170271153622578\n"
     ]
    },
    {
     "data": {
      "text/html": [
       "\n",
       "    <div>\n",
       "        <style>\n",
       "            /* Turns off some styling */\n",
       "            progress {\n",
       "                /* gets rid of default border in Firefox and Opera. */\n",
       "                border: none;\n",
       "                /* Needs to be in here for Safari polyfill so background images work as expected. */\n",
       "                background-size: auto;\n",
       "            }\n",
       "            .progress-bar-interrupted, .progress-bar-interrupted::-webkit-progress-bar {\n",
       "                background: #F44336;\n",
       "            }\n",
       "        </style>\n",
       "      <progress value='582' class='' max='582', style='width:300px; height:20px; vertical-align: middle;'></progress>\n",
       "      100.00% [582/582 00:19<00:00]\n",
       "    </div>\n",
       "    "
      ],
      "text/plain": [
       "<IPython.core.display.HTML object>"
      ]
     },
     "metadata": {},
     "output_type": "display_data"
    },
    {
     "data": {
      "text/html": [
       "\n",
       "    <div>\n",
       "        <style>\n",
       "            /* Turns off some styling */\n",
       "            progress {\n",
       "                /* gets rid of default border in Firefox and Opera. */\n",
       "                border: none;\n",
       "                /* Needs to be in here for Safari polyfill so background images work as expected. */\n",
       "                background-size: auto;\n",
       "            }\n",
       "            .progress-bar-interrupted, .progress-bar-interrupted::-webkit-progress-bar {\n",
       "                background: #F44336;\n",
       "            }\n",
       "        </style>\n",
       "      <progress value='72' class='' max='72', style='width:300px; height:20px; vertical-align: middle;'></progress>\n",
       "      100.00% [72/72 00:01<00:00]\n",
       "    </div>\n",
       "    "
      ],
      "text/plain": [
       "<IPython.core.display.HTML object>"
      ]
     },
     "metadata": {},
     "output_type": "display_data"
    },
    {
     "name": "stdout",
     "output_type": "stream",
     "text": [
      "0.012991722846000465\n"
     ]
    },
    {
     "data": {
      "text/html": [
       "\n",
       "    <div>\n",
       "        <style>\n",
       "            /* Turns off some styling */\n",
       "            progress {\n",
       "                /* gets rid of default border in Firefox and Opera. */\n",
       "                border: none;\n",
       "                /* Needs to be in here for Safari polyfill so background images work as expected. */\n",
       "                background-size: auto;\n",
       "            }\n",
       "            .progress-bar-interrupted, .progress-bar-interrupted::-webkit-progress-bar {\n",
       "                background: #F44336;\n",
       "            }\n",
       "        </style>\n",
       "      <progress value='582' class='' max='582', style='width:300px; height:20px; vertical-align: middle;'></progress>\n",
       "      100.00% [582/582 00:19<00:00]\n",
       "    </div>\n",
       "    "
      ],
      "text/plain": [
       "<IPython.core.display.HTML object>"
      ]
     },
     "metadata": {},
     "output_type": "display_data"
    },
    {
     "data": {
      "text/html": [
       "\n",
       "    <div>\n",
       "        <style>\n",
       "            /* Turns off some styling */\n",
       "            progress {\n",
       "                /* gets rid of default border in Firefox and Opera. */\n",
       "                border: none;\n",
       "                /* Needs to be in here for Safari polyfill so background images work as expected. */\n",
       "                background-size: auto;\n",
       "            }\n",
       "            .progress-bar-interrupted, .progress-bar-interrupted::-webkit-progress-bar {\n",
       "                background: #F44336;\n",
       "            }\n",
       "        </style>\n",
       "      <progress value='72' class='' max='72', style='width:300px; height:20px; vertical-align: middle;'></progress>\n",
       "      100.00% [72/72 00:01<00:00]\n",
       "    </div>\n",
       "    "
      ],
      "text/plain": [
       "<IPython.core.display.HTML object>"
      ]
     },
     "metadata": {},
     "output_type": "display_data"
    },
    {
     "name": "stdout",
     "output_type": "stream",
     "text": [
      "0.013814518532213271\n"
     ]
    }
   ],
   "source": [
    "N_EPOCHS = 15\n",
    "best_valid_loss = float('inf')\n",
    "best_valid_auc = float('inf')\n",
    "best_valid_f1 = float('inf')\n",
    "for epoch in range(N_EPOCHS):\n",
    "    train_loss, train_auc, train_f1 = train(model, train_loader, optimizer, criterion, device)\n",
    "    _, valid_loss, valid_auc, valid_f1 = evaluate(model, valid_loader, criterion, device)\n",
    "    print(train_loss)\n",
    "    if valid_loss < best_valid_loss:\n",
    "        best_valid_loss = valid_loss\n",
    "        best_valid_auc = valid_auc\n",
    "        best_valid_f1 = valid_f1\n",
    "        print(\"Best Validation Loss: %.3f, AUC: %.2f, F1:%.2f\"%(best_valid_loss, best_valid_auc, best_valid_f1), \"\\n\")\n",
    "        torch.save({'epoch': epoch,\n",
    "                    'model_state_dict': model.state_dict(),\n",
    "                    'optimizer_state_dict':optimizer.state_dict(),\n",
    "                    'loss':valid_loss\n",
    "                    },\n",
    "                   'saved_model')"
   ]
  },
  {
   "cell_type": "code",
   "execution_count": 57,
   "metadata": {},
   "outputs": [],
   "source": [
    "try:    \n",
    "    checkpoint = torch.load('saved_model')\n",
    "    model.load_state_dict(checkpoint['model_state_dict'])\n",
    "    optimizer.load_state_dict(checkpoint['optimizer_state_dict'])\n",
    "    epoch = checkpoint['epoch']\n",
    "    loss = checkpoint['loss']\n",
    "except:\n",
    "    print(\"No pre-trained model found at! Please run with --mode set to train.\")"
   ]
  },
  {
   "cell_type": "code",
   "execution_count": 58,
   "metadata": {},
   "outputs": [
    {
     "data": {
      "text/html": [
       "\n",
       "    <div>\n",
       "        <style>\n",
       "            /* Turns off some styling */\n",
       "            progress {\n",
       "                /* gets rid of default border in Firefox and Opera. */\n",
       "                border: none;\n",
       "                /* Needs to be in here for Safari polyfill so background images work as expected. */\n",
       "                background-size: auto;\n",
       "            }\n",
       "            .progress-bar-interrupted, .progress-bar-interrupted::-webkit-progress-bar {\n",
       "                background: #F44336;\n",
       "            }\n",
       "        </style>\n",
       "      <progress value='72' class='' max='72', style='width:300px; height:20px; vertical-align: middle;'></progress>\n",
       "      100.00% [72/72 01:13<00:00]\n",
       "    </div>\n",
       "    "
      ],
      "text/plain": [
       "<IPython.core.display.HTML object>"
      ]
     },
     "metadata": {},
     "output_type": "display_data"
    }
   ],
   "source": [
    "res_pred, valid_loss, valid_auc, valid_f1 = evaluate(model, valid_loader, criterion, device, store_pattn=True)"
   ]
  },
  {
   "cell_type": "code",
   "execution_count": 59,
   "metadata": {},
   "outputs": [
    {
     "data": {
      "text/plain": [
       "(0.3000409336139758, 0.9544247204642721, 0.8836741003866616)"
      ]
     },
     "execution_count": 59,
     "metadata": {},
     "output_type": "execute_result"
    }
   ],
   "source": [
    "valid_loss, valid_auc, valid_f1"
   ]
  },
  {
   "cell_type": "code",
   "execution_count": 60,
   "metadata": {},
   "outputs": [],
   "source": [
    "for key,val in res_pred.items():\n",
    "    with open(f'attn_dir/attention_dict_{key}.pckl','rb') as f:\n",
    "        attn_dict = pickle.load(f)\n",
    "        break"
   ]
  },
  {
   "cell_type": "code",
   "execution_count": 61,
   "metadata": {},
   "outputs": [
    {
     "data": {
      "text/plain": [
       "array([ True, False,  True,  True, False,  True,  True,  True,  True,\n",
       "        True,  True,  True,  True,  True,  True,  True,  True,  True,\n",
       "        True,  True,  True, False,  True,  True,  True,  True,  True,\n",
       "        True,  True,  True,  True,  True,  True,  True,  True,  True,\n",
       "        True,  True,  True,  True,  True,  True, False, False,  True,\n",
       "        True,  True,  True,  True,  True,  True,  True, False,  True,\n",
       "        True,  True,  True,  True,  True,  True,  True,  True,  True,\n",
       "        True])"
      ]
     },
     "execution_count": 61,
     "metadata": {},
     "output_type": "execute_result"
    }
   ],
   "source": [
    "np.round(val[2][:,-1])==val[1]"
   ]
  },
  {
   "cell_type": "code",
   "execution_count": 62,
   "metadata": {},
   "outputs": [
    {
     "data": {
      "text/plain": [
       "(43314, 1, array([0.07587618, 0.92412376], dtype=float32))"
      ]
     },
     "execution_count": 62,
     "metadata": {},
     "output_type": "execute_result"
    }
   ],
   "source": [
    "inx = 3\n",
    "val[0][inx], val[1][inx], val[2][inx]"
   ]
  },
  {
   "cell_type": "code",
   "execution_count": 63,
   "metadata": {},
   "outputs": [
    {
     "data": {
      "text/plain": [
       "43314"
      ]
     },
     "execution_count": 63,
     "metadata": {},
     "output_type": "execute_result"
    }
   ],
   "source": [
    "attn_dict[0][inx]"
   ]
  },
  {
   "cell_type": "code",
   "execution_count": 64,
   "metadata": {},
   "outputs": [
    {
     "data": {
      "text/plain": [
       "index                                                    46535\n",
       "review       The unlikely duo Zero Mostel Harry Belafonte t...\n",
       "label                                                        1\n",
       "reviewLen                                                  211\n",
       "Name: 43314, dtype: object"
      ]
     },
     "execution_count": 64,
     "metadata": {},
     "output_type": "execute_result"
    }
   ],
   "source": [
    "dataset.data.iloc[val[0][inx]]"
   ]
  },
  {
   "cell_type": "code",
   "execution_count": 65,
   "metadata": {},
   "outputs": [
    {
     "name": "stdout",
     "output_type": "stream",
     "text": [
      "127 car 35 poor 0.9261247\n",
      "122 know 35 poor 0.89072704\n",
      "112 hes 160 Main 0.8804458\n",
      "98 deceased 35 poor 0.8728056\n",
      "102 given 160 Main 0.8718216\n",
      "52 applying 35 poor 0.85668176\n",
      "82 him 86 coil 0.8361075\n",
      "109 hes 160 Main 0.8219691\n",
      "110 moved 35 poor 0.8163658\n",
      "159 Shop 35 poor 0.7983495\n",
      "123 hes 160 Main 0.7736151\n",
      "23 A 160 Main 0.7428809\n",
      "204 writer 35 poor 0.72027194\n",
      "198 brought 34 Jewish 0.7188338\n",
      "209 catch 35 poor 0.6931501\n",
      "106 given 160 Main 0.69164616\n",
      "176 OSheas 86 coil 0.6654493\n",
      "95 quite 160 Main 0.6579198\n",
      "112 hes 35 poor 0.6467937\n",
      "118 also 69 might 0.64225394\n",
      "109 hes 35 poor 0.6416884\n",
      "187 doctorThe 35 poor 0.5738986\n",
      "105 angels 160 Main 0.5622782\n",
      "98 deceased 160 Main 0.5563858\n",
      "206 Malamud 51 reduced 0.5559434\n",
      "79 one 143 believe 0.5498645\n",
      "50 Hes 35 poor 0.5496518\n",
      "34 Jewish 80 thing 0.54925805\n",
      "151 actress 86 coil 0.53115577\n",
      "123 hes 35 poor 0.5149714\n",
      "107 assignmentBelafonte 35 poor 0.51206225\n",
      "91 God 160 Main 0.49904802\n",
      "53 welfare 38 Mostel 0.4986911\n",
      "117 He 160 Main 0.49814782\n",
      "194 faith 35 poor 0.48633468\n",
      "140 fact 35 poor 0.4841522\n",
      "3 Zero 35 poor 0.48277152\n",
      "207 Make 35 poor 0.4764816\n",
      "119 wife 160 Main 0.47463006\n",
      "110 moved 160 Main 0.4733362\n",
      "103 basic 160 Main 0.47228062\n",
      "113 still 160 Main 0.46231878\n",
      "85 mortal 38 Mostel 0.45724836\n",
      "18 one 143 believe 0.45458972\n",
      "205 Bernard 35 poor 0.45401224\n",
      "179 Verdict 35 poor 0.4474644\n",
      "82 him 204 writer 0.4373496\n",
      "87 ties 35 poor 0.4359214\n",
      "1 unlikely 38 Mostel 0.43534392\n",
      "124 passed 35 poor 0.42870456\n",
      "166 role 156 Best 0.4252441\n",
      "182 surprised 86 coil 0.42191148\n",
      "94 something 138 conflict 0.41773078\n",
      "90 gone 86 coil 0.41611946\n",
      "86 coil 160 Main 0.4081514\n",
      "114 got 160 Main 0.4079405\n",
      "178 The 179 Verdict 0.40427685\n",
      "35 poor 141 Mostel 0.4036898\n",
      "115 lot 182 surprised 0.40305883\n",
      "36 New 80 thing 0.40301389\n",
      "103 basic 35 poor 0.40197718\n"
     ]
    }
   ],
   "source": [
    "attn_mat = attn_dict[1][0][inx].cpu().detach().numpy()\n",
    "attn_mat = np.asarray([attn_mat[:,300*i:300*(i+1)] for i in range(0,nheads)]) \n",
    "attn_mat = np.max(attn_mat, axis=0)\n",
    "review,review_len = dataset.data.iloc[val[0][inx]][['review','reviewLen']]\n",
    "attn_mat = attn_mat[:review_len, :review_len]\n",
    "review = review.split()\n",
    "arg_max_attn = np.unravel_index(np.argsort(attn_mat, axis=None)[::-1], attn_mat.shape)\n",
    "count = 0\n",
    "for i,j in zip(arg_max_attn[0], arg_max_attn[1]):\n",
    "    if i==j:\n",
    "        continue\n",
    "    print(i,review[i], j,review[j], attn_mat[i,j])\n",
    "    count += 1\n",
    "    if count > 60:\n",
    "        break"
   ]
  },
  {
   "cell_type": "code",
   "execution_count": 66,
   "metadata": {},
   "outputs": [
    {
     "data": {
      "text/plain": [
       "'The unlikely duo Zero Mostel Harry Belafonte team give us interesting performances subject matter The Angel Levine Its one interesting twist themes Its A Wonderful LifeZero married Ida Kaminsky two belong special class elderly Jewish poor New York Mostel used tailor proud trade back arthritis prevented working Kaminsky mostly bedridden Hes reduced applying welfare In desperation like Jimmy Stewart cries God helpNow maybe gotten someone like Henry Travers things might worked differently even Stewart trouble accepting Travers But Travers one thing going him 100 years mortal coil ties earthly things gone God sent Mostel something quite different recently deceased Harry Belafonte least given basic training angels given assignmentBelafonte accepted hes moved life hes still got lot issues He also wife Gloria Foster know hes passed on hit car right beginning film You put issues Mostels issues got good conflict starting fact Mostel cant believe black Jew named LevineThis farewell performance PolishJewish actress Ida Kaminsky got nomination Best Actress The Shop Main Street years back The prominent role Irish actor Milo OShea playing nice Jewish doctor Remembering OSheas brogue The Verdict I really surprised see hear carry part doctorThe Angel Levine raises interesting disturbing questions faith race society Its brought stellar cast course created acclaimed writer Bernard Malamud Make sure catch broadcast'"
      ]
     },
     "execution_count": 66,
     "metadata": {},
     "output_type": "execute_result"
    }
   ],
   "source": [
    "' '.join(review)"
   ]
  },
  {
   "cell_type": "code",
   "execution_count": 67,
   "metadata": {},
   "outputs": [
    {
     "name": "stdout",
     "output_type": "stream",
     "text": [
      "180 I 138 conflict 1.7121938e-07\n",
      "180 I 155 nomination 2.4209595e-07\n",
      "62 maybe 73 Stewart 2.8434465e-07\n",
      "180 I 187 doctorThe 3.5159556e-07\n",
      "180 I 140 fact 3.9833876e-07\n",
      "180 I 172 nice 7.8372165e-07\n",
      "98 deceased 51 reduced 8.426909e-07\n",
      "98 deceased 172 nice 8.632352e-07\n",
      "180 I 51 reduced 9.19613e-07\n",
      "62 maybe 58 Stewart 9.673053e-07\n",
      "180 I 174 doctor 1.0550746e-06\n",
      "180 I 30 belong 1.1459226e-06\n",
      "180 I 98 deceased 1.1487467e-06\n",
      "180 I 182 surprised 1.221579e-06\n",
      "179 Verdict 51 reduced 1.273461e-06\n",
      "180 I 114 got 1.3008306e-06\n",
      "62 maybe 69 might 1.5409815e-06\n",
      "180 I 181 really 1.7765907e-06\n",
      "180 I 19 interesting 1.8140744e-06\n",
      "180 I 160 Main 1.8733942e-06\n",
      "38 Mostel 34 Jewish 2.0159157e-06\n",
      "180 I 57 Jimmy 2.0390032e-06\n",
      "62 maybe 61 helpNow 2.0879072e-06\n",
      "3 Zero 108 accepted 2.1762962e-06\n",
      "1 unlikely 51 reduced 2.3488547e-06\n",
      "38 Mostel 173 Jewish 2.3721147e-06\n",
      "50 Hes 177 brogue 2.4165874e-06\n",
      "89 things 198 brought 2.4348349e-06\n",
      "112 hes 172 nice 2.655348e-06\n",
      "159 Shop 172 nice 2.7099686e-06\n",
      "93 Mostel 34 Jewish 2.8675045e-06\n",
      "93 Mostel 5 Harry 2.8980103e-06\n",
      "180 I 204 writer 2.9649618e-06\n",
      "89 things 30 belong 3.1089403e-06\n",
      "93 Mostel 147 LevineThis 3.2365908e-06\n",
      "82 him 151 actress 3.368978e-06\n",
      "1 unlikely 4 Mostel 3.4299412e-06\n",
      "91 God 4 Mostel 3.4902291e-06\n",
      "180 I 189 Levine 3.519913e-06\n",
      "180 I 42 trade 3.558755e-06\n",
      "60 God 4 Mostel 3.6769782e-06\n",
      "179 Verdict 188 Angel 3.677572e-06\n",
      "23 A 73 Stewart 3.794355e-06\n",
      "180 I 37 York 3.8614007e-06\n",
      "62 maybe 143 believe 4.0056834e-06\n",
      "180 I 156 Best 4.0068253e-06\n",
      "93 Mostel 173 Jewish 4.1140074e-06\n",
      "40 tailor 50 Hes 4.1842513e-06\n",
      "180 I 154 got 4.194846e-06\n",
      "94 something 134 Mostels 4.2199968e-06\n",
      "18 one 61 helpNow 4.225263e-06\n",
      "180 I 176 OSheas 4.374906e-06\n",
      "98 deceased 11 performances 4.449285e-06\n",
      "180 I 16 Levine 4.4507665e-06\n",
      "89 things 60 God 4.607625e-06\n",
      "60 God 115 lot 4.636355e-06\n",
      "180 I 136 got 4.662516e-06\n",
      "93 Mostel 69 might 4.6753025e-06\n",
      "112 hes 155 nomination 4.7461954e-06\n",
      "87 ties 172 nice 4.756442e-06\n",
      "123 hes 172 nice 4.816628e-06\n"
     ]
    }
   ],
   "source": [
    "attn_mat = attn_dict[1][1][inx].cpu().detach().numpy()\n",
    "attn_mat = np.asarray([attn_mat[:,300*i:300*(i+1)] for i in range(0,nheads)]) \n",
    "attn_mat = np.max(attn_mat, axis=0)\n",
    "review,review_len = dataset.data.iloc[val[0][inx]][['review','reviewLen']]\n",
    "attn_mat = attn_mat[:review_len, :review_len]\n",
    "review = review.split()\n",
    "#arg_max_attn = np.unravel_index(np.argsort(attn_mat, axis=None)[::-1], attn_mat.shape)\n",
    "arg_max_attn = np.unravel_index(np.argsort(attn_mat, axis=None), attn_mat.shape)\n",
    "count = 0\n",
    "for i,j in zip(arg_max_attn[0], arg_max_attn[1]):\n",
    "    if i==j:\n",
    "        continue\n",
    "    print(i,review[i], j,review[j], attn_mat[i,j])\n",
    "    count += 1\n",
    "    if count > 60:\n",
    "        break"
   ]
  },
  {
   "cell_type": "code",
   "execution_count": 68,
   "metadata": {},
   "outputs": [
    {
     "data": {
      "text/plain": [
       "<matplotlib.image.AxesImage at 0x7fe4fd3c4748>"
      ]
     },
     "execution_count": 68,
     "metadata": {},
     "output_type": "execute_result"
    },
    {
     "data": {
      "image/png": "[encoded data removed]",
      "text/plain": [
       "<Figure size 576x576 with 1 Axes>"
      ]
     },
     "metadata": {
      "needs_background": "light"
     },
     "output_type": "display_data"
    }
   ],
   "source": [
    "attn_mat = attn_dict[1][0][inx].cpu().detach().numpy()\n",
    "attn_mat = np.asarray([attn_mat[:,300*i:300*(i+1)] for i in range(0,nheads)]) \n",
    "attn_mat = np.max(attn_mat, axis=0)\n",
    "plt.figure(figsize=(8,8))\n",
    "plt.imshow(attn_mat[:150, :150])"
   ]
  },
  {
   "cell_type": "code",
   "execution_count": 69,
   "metadata": {},
   "outputs": [
    {
     "data": {
      "text/plain": [
       "<matplotlib.image.AxesImage at 0x7fe5042d4710>"
      ]
     },
     "execution_count": 69,
     "metadata": {},
     "output_type": "execute_result"
    },
    {
     "data": {
      "image/png": "[encoded data removed]",
      "text/plain": [
       "<Figure size 576x576 with 1 Axes>"
      ]
     },
     "metadata": {
      "needs_background": "light"
     },
     "output_type": "display_data"
    }
   ],
   "source": [
    "attn_mat = attn_dict[1][1][inx].cpu().detach().numpy()\n",
    "attn_mat = np.asarray([attn_mat[:,300*i:300*(i+1)] for i in range(0,nheads)]) \n",
    "attn_mat = np.max(attn_mat, axis=0)\n",
    "plt.figure(figsize=(8,8))\n",
    "plt.imshow(attn_mat[:150, :150])"
   ]
  },
  {
   "cell_type": "code",
   "execution_count": 70,
   "metadata": {},
   "outputs": [
    {
     "name": "stdout",
     "output_type": "stream",
     "text": [
      "98 deceased\n",
      "180 I\n",
      "82 him\n",
      "89 things\n",
      "112 hes\n",
      "159 Shop\n",
      "110 moved\n",
      "127 car\n",
      "1 unlikely\n",
      "52 applying\n",
      "60 God\n",
      "123 hes\n",
      "34 Jewish\n",
      "109 hes\n",
      "107 assignmentBelafonte\n",
      "23 A\n",
      "91 God\n",
      "36 New\n",
      "187 doctorThe\n",
      "87 ties\n",
      "35 poor\n",
      "166 role\n",
      "21 themes\n",
      "113 still\n",
      "168 actor\n",
      "68 things\n",
      "105 angels\n",
      "40 tailor\n",
      "117 He\n",
      "179 Verdict\n",
      "88 earthly\n"
     ]
    }
   ],
   "source": [
    "attn_mat = attn_dict[1][0][inx].cpu().detach().numpy()\n",
    "attn_mat = np.asarray([attn_mat[:,300*i:300*(i+1)] for i in range(0,nheads)]) \n",
    "attn_mat = np.max(attn_mat, axis=0)\n",
    "review,review_len = dataset.data.iloc[val[0][inx]][['review','reviewLen']]\n",
    "attn_mat = attn_mat[:review_len, :review_len]\n",
    "review = review.split()\n",
    "attn_mat = attn_mat.mean(axis=1)\n",
    "arg_max_attn = np.argsort(attn_mat)[::-1]\n",
    "\n",
    "count = 0\n",
    "for i in arg_max_attn:\n",
    "    print(i, review[i])\n",
    "    count += 1\n",
    "    if count > 30:\n",
    "        break"
   ]
  },
  {
   "cell_type": "code",
   "execution_count": 71,
   "metadata": {},
   "outputs": [
    {
     "name": "stdout",
     "output_type": "stream",
     "text": [
      "180 I\n",
      "91 God\n",
      "60 God\n",
      "98 deceased\n",
      "87 ties\n",
      "89 things\n",
      "94 something\n",
      "62 maybe\n",
      "112 hes\n",
      "113 still\n",
      "97 recently\n",
      "110 moved\n",
      "179 Verdict\n",
      "82 him\n",
      "159 Shop\n",
      "93 Mostel\n",
      "168 actor\n",
      "50 Hes\n",
      "123 hes\n",
      "125 on\n",
      "102 given\n",
      "107 assignmentBelafonte\n",
      "170 OShea\n",
      "1 unlikely\n",
      "109 hes\n",
      "72 even\n",
      "3 Zero\n",
      "106 given\n",
      "18 one\n",
      "79 one\n",
      "23 A\n"
     ]
    }
   ],
   "source": [
    "attn_mat = attn_dict[1][1][inx].cpu().detach().numpy()\n",
    "attn_mat = np.asarray([attn_mat[:,300*i:300*(i+1)] for i in range(0,nheads)]) \n",
    "attn_mat = np.max(attn_mat, axis=0)\n",
    "review,review_len = dataset.data.iloc[val[0][inx]][['review','reviewLen']]\n",
    "attn_mat = attn_mat[:review_len, :review_len]\n",
    "review = review.split()\n",
    "attn_mat = attn_mat.mean(axis=1)\n",
    "arg_max_attn = np.argsort(attn_mat)[::-1]\n",
    "\n",
    "count = 0\n",
    "for i in arg_max_attn:\n",
    "    print(i, review[i])\n",
    "    count += 1\n",
    "    if count > 30:\n",
    "        break"
   ]
  },
  {
   "cell_type": "code",
   "execution_count": null,
   "metadata": {},
   "outputs": [],
   "source": []
  },
  {
   "cell_type": "code",
   "execution_count": null,
   "metadata": {},
   "outputs": [],
   "source": []
  }
 ],
 "metadata": {
  "kernelspec": {
   "display_name": "Python 3",
   "language": "python",
   "name": "python3"
  },
  "language_info": {
   "codemirror_mode": {
    "name": "ipython",
    "version": 3
   },
   "file_extension": ".py",
   "mimetype": "text/x-python",
   "name": "python",
   "nbconvert_exporter": "python",
   "pygments_lexer": "ipython3",
   "version": "3.7.3"
  }
 },
 "nbformat": 4,
 "nbformat_minor": 2
}
